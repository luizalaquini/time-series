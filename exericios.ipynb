{
 "cells": [
  {
   "cell_type": "markdown",
   "metadata": {},
   "source": [
    "**Exercício 1**\n",
    "\n",
    "Os valores a seguir representam as cotações da saca de 60 kg de café. O valor da média móvel estimada de 3 dias anteriores para o próximo período é:\n",
    "\n",
    "     Data\t              R$ Saca 60 Kg Café\n",
    "     19/04/2023\t             1.148,25   \n",
    "     20/04/2023\t             1.111,77   \n",
    "     24/04/2023\t             1.111,82   \n",
    "     25/04/2023\t             1.076,43   \n",
    "     26/04/2023\t             1.092,76   "
   ]
  },
  {
   "cell_type": "code",
   "execution_count": 1,
   "metadata": {},
   "outputs": [
    {
     "data": {
      "text/plain": [
       "1093.67"
      ]
     },
     "execution_count": 1,
     "metadata": {},
     "output_type": "execute_result"
    }
   ],
   "source": [
    "# Lista de cotações dos últimos 3 dias antes do próximo período\n",
    "cotacoes = [1111.82, 1076.43, 1092.76]\n",
    "\n",
    "# Cálculo da média móvel de 3 dias\n",
    "media_movel = sum(cotacoes) / len(cotacoes)\n",
    "media_movel"
   ]
  },
  {
   "cell_type": "markdown",
   "metadata": {},
   "source": [
    "**Exercício 2**\n",
    "\n",
    "Considere a série temporal das vendas de um determinado produto de uma empresa dada a seguir:\n",
    "\n",
    "Ano 1<br>\n",
    "Jan\tFev\tMar\tAbr\tMai\tJun\tJul\tAgo\tSet\tOut\tNov\tDez<br>\n",
    "19\t15\t39\t102\t90\t29\t90\t46\t30\t66\t80\t90<br>\n",
    "\n",
    "Ano 2<br>\n",
    "Jan\tFev\tMar\tAbr<br>\n",
    "82\t17\t26\t29<br>\n",
    "\n",
    "A média móvel centrada de três períodos tem como primeiro valor para Fev/Ano1 como sendo:"
   ]
  },
  {
   "cell_type": "code",
   "execution_count": null,
   "metadata": {},
   "outputs": [
    {
     "data": {
      "text/plain": [
       "24.333333333333332"
      ]
     },
     "execution_count": 2,
     "metadata": {},
     "output_type": "execute_result"
    }
   ],
   "source": [
    "# Dados das vendas para Ano 1\n",
    "vendas_ano1 = [19, 15, 39, 102, 90, 29, 90, 46, 30, 66, 80, 90]\n",
    "\n",
    "# Índices dos meses relevantes para a média móvel centrada de Fev/Ano1\n",
    "indice_fev = 1  # Fev está na posição 1, pois Jan é 0\n",
    "\n",
    "# Valores de Jan, Fev e Mar do Ano 1\n",
    "valores_para_media = [vendas_ano1[indice_fev - 1], vendas_ano1[indice_fev], vendas_ano1[indice_fev + 1]]\n",
    "\n",
    "# Cálculo da média móvel centrada de três períodos\n",
    "media_movel_centrada = sum(valores_para_media) / len(valores_para_media)\n",
    "media_movel_centrada"
   ]
  },
  {
   "cell_type": "markdown",
   "metadata": {},
   "source": [
    "**Exercício 3**\n",
    "\n",
    "Considerando a série temporal das vendas de um determinado produto de uma empresa dada a seguir:\n",
    "\n",
    "Ano 1<br>\n",
    "Jan\tFev\tMar\tAbr\tMai\tJun\tJul\tAgo\tSet\tOut\tNov\tDez<br>\n",
    "19\t15\t39\t102\t90\t29\t90\t46\t30\t66\t80\t90<br>\n",
    "\n",
    "Ano 2<br>\n",
    "Jan\tFev\tMar\tAbr<br>\n",
    "82\t17\t26\t29<br>\n",
    "\n",
    "Qual é a previsão para Maio do ano 2, utilizando médias móveis de 3 meses anteriores?"
   ]
  },
  {
   "cell_type": "code",
   "execution_count": 3,
   "metadata": {},
   "outputs": [
    {
     "data": {
      "text/plain": [
       "24.0"
      ]
     },
     "execution_count": 3,
     "metadata": {},
     "output_type": "execute_result"
    }
   ],
   "source": [
    "# Dados das vendas de Ano 1 e Ano 2\n",
    "vendas_ano1 = [19, 15, 39, 102, 90, 29, 90, 46, 30, 66, 80, 90]\n",
    "vendas_ano2 = [82, 17, 26, 29]\n",
    "\n",
    "# Valores dos três meses anteriores a Maio de Ano 2: Fev, Mar e Abr\n",
    "valores_para_media_maio_ano2 = [vendas_ano2[1], vendas_ano2[2], vendas_ano2[3]]\n",
    "\n",
    "# Cálculo da média móvel de três meses para prever Maio de Ano 2\n",
    "previsao_maio_ano2 = sum(valores_para_media_maio_ano2) / len(valores_para_media_maio_ano2)\n",
    "previsao_maio_ano2"
   ]
  }
 ],
 "metadata": {
  "kernelspec": {
   "display_name": ".venv",
   "language": "python",
   "name": "python3"
  },
  "language_info": {
   "codemirror_mode": {
    "name": "ipython",
    "version": 3
   },
   "file_extension": ".py",
   "mimetype": "text/x-python",
   "name": "python",
   "nbconvert_exporter": "python",
   "pygments_lexer": "ipython3",
   "version": "3.12.3"
  }
 },
 "nbformat": 4,
 "nbformat_minor": 2
}
